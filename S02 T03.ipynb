{
 "cells": [
  {
   "cell_type": "markdown",
   "metadata": {},
   "source": [
    "# S02 T03: Estructura de control"
   ]
  },
  {
   "cell_type": "markdown",
   "metadata": {},
   "source": [
    "### Exercici 1\n",
    "L'exercici consisteix a crear un programa que et classifiqui una variable numèrica en funció de l’escala Suspès/Aprovat/Notable/Excel·lent."
   ]
  },
  {
   "cell_type": "code",
   "execution_count": 1,
   "metadata": {},
   "outputs": [
    {
     "name": "stdout",
     "output_type": "stream",
     "text": [
      "Suspès\n",
      "Suspès\n",
      "Notable\n",
      "Aprovat\n",
      "Excel·lent\n",
      "Excel·lent\n",
      "Notable\n",
      "Suspès\n"
     ]
    }
   ],
   "source": [
    "notas = [1, 4.2, 6.6, 5, 10, 8.9, 7.5, 0]\n",
    "for x in notas:\n",
    "    if x < 5:\n",
    "        resultat = \"Suspès\"\n",
    "    elif x <=5 and x < 7.5:\n",
    "        resultat = \"Aprovat\"\n",
    "    elif x <= 7.5 and x < 9:\n",
    "        resultat = \"Notable\"\n",
    "    else:\n",
    "        resultat = \"Excel·lent\"\n",
    "    print(resultat)"
   ]
  },
  {
   "cell_type": "markdown",
   "metadata": {},
   "source": [
    "### Exercici 2\n",
    "Utilitzant el següent tutorial Programiz: Python Input, Output and Import crea un programa que et pregunti dos números. T’ha de mostrar un missatge dient si el primer és més gran, el segon és més gran o són iguals."
   ]
  },
  {
   "cell_type": "code",
   "execution_count": 2,
   "metadata": {},
   "outputs": [
    {
     "name": "stdout",
     "output_type": "stream",
     "text": [
      "Escriu dos números: 5 7.88\n",
      "El segon és més gran\n"
     ]
    }
   ],
   "source": [
    "x, y = input(\"Escriu dos números: \").split()\n",
    "num1 = float(x)\n",
    "num2 = float(y)\n",
    "if num1 > num2:\n",
    "    print(\"El primer és més gran\")\n",
    "elif num1 < num2:\n",
    "    print(\"El segon és més gran\")\n",
    "else: print(\"Són iguals\")"
   ]
  },
  {
   "cell_type": "markdown",
   "metadata": {},
   "source": [
    "### Exercici 3\n",
    "Crea un programa que et pregunti el teu nom, i et demani un número. Si el número és 0, hauria de mostrar un missatge d’error. En cas contrari, hauria de mostrar el nom repetit tants cops com indiqui el número. Per exemple, “Joan Joan Joan”."
   ]
  },
  {
   "cell_type": "code",
   "execution_count": 3,
   "metadata": {},
   "outputs": [
    {
     "name": "stdout",
     "output_type": "stream",
     "text": [
      "Escriu el teu nom: Adrià\n",
      "Escriu un número: 5\n",
      "Adrià\n",
      "Adrià\n",
      "Adrià\n",
      "Adrià\n",
      "Adrià\n"
     ]
    }
   ],
   "source": [
    "nom = input(\"Escriu el teu nom: \")\n",
    "num = input(\"Escriu un número: \")\n",
    "x = int(num)\n",
    "if x == 0: raise NameError(\"error\")\n",
    "i = 1\n",
    "while i <= x:\n",
    "    print(nom)\n",
    "    i += 1"
   ]
  },
  {
   "cell_type": "markdown",
   "metadata": {},
   "source": [
    "### Exercici 4\n",
    "Crea un programa que donada una llista qualsevol, et digui si es simètrica o no. Si ho és, que et digui quants elements té."
   ]
  },
  {
   "cell_type": "code",
   "execution_count": 4,
   "metadata": {},
   "outputs": [
    {
     "name": "stdout",
     "output_type": "stream",
     "text": [
      "Escribe una lista: 1 4 5 4 1\n",
      "És simètrica\n"
     ]
    }
   ],
   "source": [
    "x = input(\"Escribe una lista: \")\n",
    "list(x)\n",
    "sim = True\n",
    "i = 0\n",
    "while i < len(x)/2:\n",
    "    if x[i] != x[-i-1]:\n",
    "        sim = False\n",
    "        break\n",
    "    i += 1\n",
    "if sim: print(\"És simètrica\")\n",
    "else : print(\"No es simètrica\")"
   ]
  },
  {
   "cell_type": "markdown",
   "metadata": {},
   "source": [
    "### Exercici 5\n",
    "Crea un programa que donada una llista, et digui quants números coincideixen amb la seva posició. Per exemple [3,4,2,0,2,3,6] el 2 i el 6 coincideixen"
   ]
  },
  {
   "cell_type": "code",
   "execution_count": 5,
   "metadata": {},
   "outputs": [
    {
     "name": "stdout",
     "output_type": "stream",
     "text": [
      "Escribe una lista de números: 1 1 3 3 5 6 3 4 8 8 10\n",
      "El número 1 coincideix amb la seva posició\n",
      "El número 3 coincideix amb la seva posició\n",
      "El número 8 coincideix amb la seva posició\n",
      "El número 10 coincideix amb la seva posició\n"
     ]
    }
   ],
   "source": [
    "num = input(\"Escribe una lista de números: \")\n",
    "lista = num.split()\n",
    "it = 0\n",
    "for x in lista:\n",
    "    if int(x) == it:\n",
    "        print(\"El número {} coincideix amb la seva posició\".format(x))\n",
    "    it += 1;"
   ]
  }
 ],
 "metadata": {
  "kernelspec": {
   "display_name": "Python 3",
   "language": "python",
   "name": "python3"
  },
  "language_info": {
   "codemirror_mode": {
    "name": "ipython",
    "version": 3
   },
   "file_extension": ".py",
   "mimetype": "text/x-python",
   "name": "python",
   "nbconvert_exporter": "python",
   "pygments_lexer": "ipython3",
   "version": "3.7.6"
  }
 },
 "nbformat": 4,
 "nbformat_minor": 4
}
